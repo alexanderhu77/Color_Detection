{
  "nbformat": 4,
  "nbformat_minor": 0,
  "metadata": {
    "colab": {
      "provenance": []
    },
    "kernelspec": {
      "name": "python3",
      "display_name": "Python 3"
    },
    "language_info": {
      "name": "python"
    }
  },
  "cells": [
    {
      "cell_type": "code",
      "execution_count": null,
      "metadata": {
        "colab": {
          "base_uri": "https://localhost:8080/"
        },
        "id": "7jxGJORFB3h-",
        "outputId": "46d1f909-3db2-4ddc-85bd-eff0359a4e30"
      },
      "outputs": [
        {
          "output_type": "stream",
          "name": "stdout",
          "text": [
            "Mounted at /content/drive\n"
          ]
        }
      ],
      "source": [
        "import numpy as np\n",
        "from PIL import Image\n",
        "from google.colab import drive\n",
        "import webcolors\n",
        "drive.mount('/content/drive')"
      ]
    },
    {
      "cell_type": "code",
      "source": [
        "import cv2\n",
        "import numpy as np\n",
        "from PIL import Image\n",
        "from collections import Counter\n",
        "\n",
        "custom_colors_hsv = {\n",
        "    'white':  (0,   0,   255),\n",
        "    'black':  (0,   0,   0),\n",
        "    'red':    (0,   200, 200),\n",
        "    'orange': (20,  180, 240),\n",
        "    'brown':  (20,  150, 100),\n",
        "    'yellow': (30,  200, 250),\n",
        "    'green':  (60,  200, 200),\n",
        "    'blue':   (120, 200, 200),\n",
        "    'purple': (150, 180, 180)\n",
        "}\n",
        "\n",
        "def closest_hsv(requested_hsv):\n",
        "    requested_h = int(requested_hsv[0])\n",
        "    requested_s = int(requested_hsv[1])\n",
        "    requested_v = int(requested_hsv[2])\n",
        "\n",
        "    distances = {}\n",
        "    for name, hsv in custom_colors_hsv.items():\n",
        "        h = int(hsv[0])\n",
        "        s = int(hsv[1])\n",
        "        v = int(hsv[2])\n",
        "\n",
        "        h_diff = min(abs(h - requested_h), 180 - abs(h - requested_h))  # Circular hue\n",
        "        s_diff = s - requested_s\n",
        "        v_diff = v - requested_v\n",
        "\n",
        "        distance = np.sqrt((3 * h_diff) ** 2 + (2 * s_diff) ** 2 + (1 * v_diff) ** 2)\n",
        "        distances[name] = distance\n",
        "        print(f\"{name}: distance = {distance:.2f}\")\n",
        "\n",
        "    return min(distances, key=distances.get)\n",
        "\n",
        "\n",
        "def detect_color(image_path):\n",
        "    image = cv2.imread(image_path)\n",
        "\n",
        "    # Convert BGR to RGB and find most common RGB\n",
        "    rgb_image = cv2.cvtColor(image, cv2.COLOR_BGR2RGB)\n",
        "    rgb_reshaped = rgb_image.reshape(-1, 3)\n",
        "    rgb_counts = Counter(map(tuple, rgb_reshaped))\n",
        "    most_common_rgb = rgb_counts.most_common(1)[0][0]\n",
        "    most_common_rgb = tuple(int(x) for x in most_common_rgb)\n",
        "    print(\"Most common RGB:\", most_common_rgb)\n",
        "\n",
        "    # Convert BGR to HSV and find most common HSV\n",
        "    hsv_image = cv2.cvtColor(image, cv2.COLOR_BGR2HSV)\n",
        "    hsv_reshaped = hsv_image.reshape(-1, 3)\n",
        "    hsv_counts = Counter(map(tuple, hsv_reshaped))\n",
        "    most_common_hsv = hsv_counts.most_common(1)[0][0]\n",
        "    most_common_hsv = tuple(int(x) for x in most_common_hsv)\n",
        "    print(\"Most common HSV:\", most_common_hsv)\n",
        "\n",
        "    color_name = closest_hsv(most_common_hsv)\n",
        "    print(\"Closest color name:\", color_name)\n",
        "\n",
        "\n",
        "detect_color('/content/drive/My Drive/color_data/t10.jpg')\n"
      ],
      "metadata": {
        "colab": {
          "base_uri": "https://localhost:8080/"
        },
        "id": "T_WhBjVyB7_o",
        "outputId": "8813c393-c5b4-46a0-a08b-440bc7f82388"
      },
      "execution_count": null,
      "outputs": [
        {
          "output_type": "stream",
          "name": "stdout",
          "text": [
            "Most common RGB: (241, 168, 149)\n",
            "Most common HSV: (6, 97, 241)\n",
            "white: distance = 195.34\n",
            "black: distance = 309.90\n",
            "red: distance = 210.81\n",
            "orange: distance = 171.23\n",
            "brown: distance = 181.33\n",
            "yellow: distance = 218.41\n",
            "green: distance = 265.26\n",
            "blue: distance = 288.65\n",
            "purple: distance = 207.22\n",
            "Closest color name: orange\n"
          ]
        }
      ]
    },
    {
      "cell_type": "code",
      "source": [],
      "metadata": {
        "id": "82OVAJSQUDMQ"
      },
      "execution_count": null,
      "outputs": []
    }
  ]
}